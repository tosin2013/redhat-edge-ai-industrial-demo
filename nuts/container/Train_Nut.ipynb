{
 "cells": [
  {
   "cell_type": "code",
   "execution_count": 24,
   "id": "a0ee1fff-d139-4550-b7a8-cc27f3e090e3",
   "metadata": {},
   "outputs": [
    {
     "name": "stdout",
     "output_type": "stream",
     "text": [
      "Cloning into 'redhat-edge-ai-industrial-demo'...\n",
      "remote: Enumerating objects: 7523, done.\u001b[K\n",
      "remote: Counting objects: 100% (964/964), done.\u001b[K\n",
      "remote: Compressing objects: 100% (860/860), done.\u001b[K\n",
      "remote: Total 7523 (delta 107), reused 896 (delta 98), pack-reused 6559\u001b[K\n",
      "Receiving objects: 100% (7523/7523), 413.59 MiB | 5.69 MiB/s, done.\n",
      "Resolving deltas: 100% (331/331), done.\n"
     ]
    }
   ],
   "source": [
    "!git clone https://github.com/bdherouville/redhat-edge-ai-industrial-demo.git\n"
   ]
  },
  {
   "cell_type": "code",
   "execution_count": null,
   "id": "cff0112b-d628-47a3-8412-33e04fad5306",
   "metadata": {},
   "outputs": [],
   "source": [
    "!git clone https://github.com/ultralytics/yolov5  # clone"
   ]
  },
  {
   "cell_type": "code",
   "execution_count": 11,
   "id": "93799486-cce8-4e3d-97b0-368e7beafd2b",
   "metadata": {},
   "outputs": [],
   "source": [
    "!cd yolov5 && sed -i s/'opencv-python>'/'opencv-python-headless>'/g requirements.txt"
   ]
  },
  {
   "cell_type": "code",
   "execution_count": 17,
   "id": "2b3b145b-3993-4849-b6dc-388c658fdddb",
   "metadata": {},
   "outputs": [
    {
     "name": "stdout",
     "output_type": "stream",
     "text": [
      "\u001b[33mWARNING: Skipping opencv-python as it is not installed.\u001b[0m\u001b[33m\n",
      "\u001b[0mFound existing installation: opencv-python-headless 4.7.0.72\n",
      "Uninstalling opencv-python-headless-4.7.0.72:\n",
      "  Successfully uninstalled opencv-python-headless-4.7.0.72\n"
     ]
    }
   ],
   "source": [
    "!pip uninstall -y opencv-python opencv-python-headless"
   ]
  },
  {
   "cell_type": "code",
   "execution_count": 18,
   "id": "d7f0505c-27d3-45d3-a6c5-a5c6fe159c64",
   "metadata": {},
   "outputs": [
    {
     "name": "stdout",
     "output_type": "stream",
     "text": [
      "Requirement already satisfied: gitpython>=3.1.30 in /opt/app-root/lib/python3.9/site-packages (from -r requirements.txt (line 5)) (3.1.31)\n",
      "Requirement already satisfied: matplotlib>=3.3 in /opt/app-root/lib/python3.9/site-packages (from -r requirements.txt (line 6)) (3.6.3)\n",
      "Requirement already satisfied: numpy>=1.18.5 in /opt/app-root/lib/python3.9/site-packages (from -r requirements.txt (line 7)) (1.24.2)\n",
      "Collecting opencv-python-headless>=4.1.1\n",
      "  Downloading opencv_python_headless-4.7.0.72-cp37-abi3-manylinux_2_17_x86_64.manylinux2014_x86_64.whl (49.2 MB)\n",
      "\u001b[2K     \u001b[90m━━━━━━━━━━━━━━━━━━━━━━━━━━━━━━━━━━━━━━━━\u001b[0m \u001b[32m49.2/49.2 MB\u001b[0m \u001b[31m36.7 MB/s\u001b[0m eta \u001b[36m0:00:00\u001b[0m00:01\u001b[0m00:01\u001b[0m\n",
      "\u001b[?25hRequirement already satisfied: Pillow>=7.1.2 in /opt/app-root/lib/python3.9/site-packages (from -r requirements.txt (line 9)) (9.4.0)\n",
      "Requirement already satisfied: psutil in /opt/app-root/lib/python3.9/site-packages (from -r requirements.txt (line 10)) (5.9.4)\n",
      "Requirement already satisfied: PyYAML>=5.3.1 in /opt/app-root/lib/python3.9/site-packages (from -r requirements.txt (line 11)) (5.4.1)\n",
      "Requirement already satisfied: requests>=2.23.0 in /opt/app-root/lib/python3.9/site-packages (from -r requirements.txt (line 12)) (2.28.2)\n",
      "Requirement already satisfied: scipy>=1.4.1 in /opt/app-root/lib/python3.9/site-packages (from -r requirements.txt (line 13)) (1.10.1)\n",
      "Requirement already satisfied: thop>=0.1.1 in /opt/app-root/lib/python3.9/site-packages (from -r requirements.txt (line 14)) (0.1.1.post2209072238)\n",
      "Requirement already satisfied: torch>=1.7.0 in /opt/app-root/lib/python3.9/site-packages (from -r requirements.txt (line 15)) (2.0.1)\n",
      "Requirement already satisfied: torchvision>=0.8.1 in /opt/app-root/lib/python3.9/site-packages (from -r requirements.txt (line 16)) (0.15.2)\n",
      "Requirement already satisfied: tqdm>=4.64.0 in /opt/app-root/lib/python3.9/site-packages (from -r requirements.txt (line 17)) (4.65.0)\n",
      "Requirement already satisfied: ultralytics>=8.0.100 in /opt/app-root/lib/python3.9/site-packages (from -r requirements.txt (line 18)) (8.0.109)\n",
      "Requirement already satisfied: pandas>=1.1.4 in /opt/app-root/lib/python3.9/site-packages (from -r requirements.txt (line 27)) (1.5.3)\n",
      "Requirement already satisfied: seaborn>=0.11.0 in /opt/app-root/lib/python3.9/site-packages (from -r requirements.txt (line 28)) (0.12.2)\n",
      "Requirement already satisfied: setuptools>=65.5.1 in /opt/app-root/lib/python3.9/site-packages (from -r requirements.txt (line 42)) (67.6.0)\n",
      "Requirement already satisfied: gitdb<5,>=4.0.1 in /opt/app-root/lib/python3.9/site-packages (from gitpython>=3.1.30->-r requirements.txt (line 5)) (4.0.10)\n",
      "Requirement already satisfied: contourpy>=1.0.1 in /opt/app-root/lib/python3.9/site-packages (from matplotlib>=3.3->-r requirements.txt (line 6)) (1.0.7)\n",
      "Requirement already satisfied: fonttools>=4.22.0 in /opt/app-root/lib/python3.9/site-packages (from matplotlib>=3.3->-r requirements.txt (line 6)) (4.39.2)\n",
      "Requirement already satisfied: cycler>=0.10 in /opt/app-root/lib/python3.9/site-packages (from matplotlib>=3.3->-r requirements.txt (line 6)) (0.11.0)\n",
      "Requirement already satisfied: pyparsing>=2.2.1 in /opt/app-root/lib/python3.9/site-packages (from matplotlib>=3.3->-r requirements.txt (line 6)) (3.0.9)\n",
      "Requirement already satisfied: packaging>=20.0 in /opt/app-root/lib/python3.9/site-packages (from matplotlib>=3.3->-r requirements.txt (line 6)) (21.3)\n",
      "Requirement already satisfied: python-dateutil>=2.7 in /opt/app-root/lib/python3.9/site-packages (from matplotlib>=3.3->-r requirements.txt (line 6)) (2.8.2)\n",
      "Requirement already satisfied: kiwisolver>=1.0.1 in /opt/app-root/lib/python3.9/site-packages (from matplotlib>=3.3->-r requirements.txt (line 6)) (1.4.4)\n",
      "Requirement already satisfied: certifi>=2017.4.17 in /opt/app-root/lib/python3.9/site-packages (from requests>=2.23.0->-r requirements.txt (line 12)) (2022.12.7)\n",
      "Requirement already satisfied: idna<4,>=2.5 in /opt/app-root/lib/python3.9/site-packages (from requests>=2.23.0->-r requirements.txt (line 12)) (3.4)\n",
      "Requirement already satisfied: urllib3<1.27,>=1.21.1 in /opt/app-root/lib/python3.9/site-packages (from requests>=2.23.0->-r requirements.txt (line 12)) (1.26.15)\n",
      "Requirement already satisfied: charset-normalizer<4,>=2 in /opt/app-root/lib/python3.9/site-packages (from requests>=2.23.0->-r requirements.txt (line 12)) (3.1.0)\n",
      "Requirement already satisfied: nvidia-cuda-nvrtc-cu11==11.7.99 in /opt/app-root/lib/python3.9/site-packages (from torch>=1.7.0->-r requirements.txt (line 15)) (11.7.99)\n",
      "Requirement already satisfied: typing-extensions in /opt/app-root/lib/python3.9/site-packages (from torch>=1.7.0->-r requirements.txt (line 15)) (4.5.0)\n",
      "Requirement already satisfied: jinja2 in /opt/app-root/lib/python3.9/site-packages (from torch>=1.7.0->-r requirements.txt (line 15)) (3.1.2)\n",
      "Requirement already satisfied: nvidia-cuda-cupti-cu11==11.7.101 in /opt/app-root/lib/python3.9/site-packages (from torch>=1.7.0->-r requirements.txt (line 15)) (11.7.101)\n",
      "Requirement already satisfied: nvidia-curand-cu11==10.2.10.91 in /opt/app-root/lib/python3.9/site-packages (from torch>=1.7.0->-r requirements.txt (line 15)) (10.2.10.91)\n",
      "Requirement already satisfied: nvidia-cusparse-cu11==11.7.4.91 in /opt/app-root/lib/python3.9/site-packages (from torch>=1.7.0->-r requirements.txt (line 15)) (11.7.4.91)\n",
      "Requirement already satisfied: nvidia-nccl-cu11==2.14.3 in /opt/app-root/lib/python3.9/site-packages (from torch>=1.7.0->-r requirements.txt (line 15)) (2.14.3)\n",
      "Requirement already satisfied: nvidia-cublas-cu11==11.10.3.66 in /opt/app-root/lib/python3.9/site-packages (from torch>=1.7.0->-r requirements.txt (line 15)) (11.10.3.66)\n",
      "Requirement already satisfied: nvidia-nvtx-cu11==11.7.91 in /opt/app-root/lib/python3.9/site-packages (from torch>=1.7.0->-r requirements.txt (line 15)) (11.7.91)\n",
      "Requirement already satisfied: nvidia-cusolver-cu11==11.4.0.1 in /opt/app-root/lib/python3.9/site-packages (from torch>=1.7.0->-r requirements.txt (line 15)) (11.4.0.1)\n",
      "Requirement already satisfied: triton==2.0.0 in /opt/app-root/lib/python3.9/site-packages (from torch>=1.7.0->-r requirements.txt (line 15)) (2.0.0)\n",
      "Requirement already satisfied: filelock in /opt/app-root/lib/python3.9/site-packages (from torch>=1.7.0->-r requirements.txt (line 15)) (3.10.0)\n",
      "Requirement already satisfied: networkx in /opt/app-root/lib/python3.9/site-packages (from torch>=1.7.0->-r requirements.txt (line 15)) (3.0)\n",
      "Requirement already satisfied: nvidia-cuda-runtime-cu11==11.7.99 in /opt/app-root/lib/python3.9/site-packages (from torch>=1.7.0->-r requirements.txt (line 15)) (11.7.99)\n",
      "Requirement already satisfied: sympy in /opt/app-root/lib/python3.9/site-packages (from torch>=1.7.0->-r requirements.txt (line 15)) (1.12)\n",
      "Requirement already satisfied: nvidia-cufft-cu11==10.9.0.58 in /opt/app-root/lib/python3.9/site-packages (from torch>=1.7.0->-r requirements.txt (line 15)) (10.9.0.58)\n",
      "Requirement already satisfied: nvidia-cudnn-cu11==8.5.0.96 in /opt/app-root/lib/python3.9/site-packages (from torch>=1.7.0->-r requirements.txt (line 15)) (8.5.0.96)\n",
      "Requirement already satisfied: wheel in /opt/app-root/lib/python3.9/site-packages (from nvidia-cublas-cu11==11.10.3.66->torch>=1.7.0->-r requirements.txt (line 15)) (0.38.4)\n",
      "Requirement already satisfied: lit in /opt/app-root/lib/python3.9/site-packages (from triton==2.0.0->torch>=1.7.0->-r requirements.txt (line 15)) (16.0.5)\n",
      "Requirement already satisfied: cmake in /opt/app-root/lib/python3.9/site-packages (from triton==2.0.0->torch>=1.7.0->-r requirements.txt (line 15)) (3.26.3)\n",
      "Collecting opencv-python>=4.6.0\n",
      "  Downloading opencv_python-4.7.0.72-cp37-abi3-manylinux_2_17_x86_64.manylinux2014_x86_64.whl (61.8 MB)\n",
      "\u001b[2K     \u001b[90m━━━━━━━━━━━━━━━━━━━━━━━━━━━━━━━━━━━━━━━━\u001b[0m \u001b[32m61.8/61.8 MB\u001b[0m \u001b[31m52.1 MB/s\u001b[0m eta \u001b[36m0:00:00\u001b[0m00:01\u001b[0m00:01\u001b[0m\n",
      "\u001b[?25hRequirement already satisfied: sentry-sdk in /opt/app-root/lib/python3.9/site-packages (from ultralytics>=8.0.100->-r requirements.txt (line 18)) (1.17.0)\n",
      "Requirement already satisfied: pytz>=2020.1 in /opt/app-root/lib/python3.9/site-packages (from pandas>=1.1.4->-r requirements.txt (line 27)) (2022.7.1)\n",
      "Requirement already satisfied: smmap<6,>=3.0.1 in /opt/app-root/lib/python3.9/site-packages (from gitdb<5,>=4.0.1->gitpython>=3.1.30->-r requirements.txt (line 5)) (5.0.0)\n",
      "Requirement already satisfied: six>=1.5 in /opt/app-root/lib/python3.9/site-packages (from python-dateutil>=2.7->matplotlib>=3.3->-r requirements.txt (line 6)) (1.16.0)\n",
      "Requirement already satisfied: MarkupSafe>=2.0 in /opt/app-root/lib/python3.9/site-packages (from jinja2->torch>=1.7.0->-r requirements.txt (line 15)) (2.1.2)\n",
      "Requirement already satisfied: mpmath>=0.19 in /opt/app-root/lib/python3.9/site-packages (from sympy->torch>=1.7.0->-r requirements.txt (line 15)) (1.3.0)\n",
      "Installing collected packages: opencv-python-headless, opencv-python\n",
      "Successfully installed opencv-python-4.7.0.72 opencv-python-headless-4.7.0.72\n",
      "\n",
      "\u001b[1m[\u001b[0m\u001b[34;49mnotice\u001b[0m\u001b[1;39;49m]\u001b[0m\u001b[39;49m A new release of pip is available: \u001b[0m\u001b[31;49m23.0.1\u001b[0m\u001b[39;49m -> \u001b[0m\u001b[32;49m23.1.2\u001b[0m\n",
      "\u001b[1m[\u001b[0m\u001b[34;49mnotice\u001b[0m\u001b[1;39;49m]\u001b[0m\u001b[39;49m To update, run: \u001b[0m\u001b[32;49mpip install --upgrade pip\u001b[0m\n"
     ]
    }
   ],
   "source": [
    "!cd yolov5 && pip install -r requirements.txt  # install"
   ]
  },
  {
   "cell_type": "code",
   "execution_count": 19,
   "id": "ff97c41c-e266-4198-9581-f711c692c47c",
   "metadata": {},
   "outputs": [
    {
     "name": "stdout",
     "output_type": "stream",
     "text": [
      "Found existing installation: opencv-python 4.7.0.72\n",
      "Uninstalling opencv-python-4.7.0.72:\n",
      "  Successfully uninstalled opencv-python-4.7.0.72\n",
      "Found existing installation: opencv-python-headless 4.7.0.72\n",
      "Uninstalling opencv-python-headless-4.7.0.72:\n",
      "  Successfully uninstalled opencv-python-headless-4.7.0.72\n",
      "Collecting opencv-python-headless\n",
      "  Downloading opencv_python_headless-4.7.0.72-cp37-abi3-manylinux_2_17_x86_64.manylinux2014_x86_64.whl (49.2 MB)\n",
      "\u001b[2K     \u001b[90m━━━━━━━━━━━━━━━━━━━━━━━━━━━━━━━━━━━━━━━━\u001b[0m \u001b[32m49.2/49.2 MB\u001b[0m \u001b[31m46.3 MB/s\u001b[0m eta \u001b[36m0:00:00\u001b[0m00:01\u001b[0m00:01\u001b[0m\n",
      "\u001b[?25hRequirement already satisfied: numpy>=1.19.3 in /opt/app-root/lib/python3.9/site-packages (from opencv-python-headless) (1.24.2)\n",
      "Installing collected packages: opencv-python-headless\n",
      "Successfully installed opencv-python-headless-4.7.0.72\n",
      "\n",
      "\u001b[1m[\u001b[0m\u001b[34;49mnotice\u001b[0m\u001b[1;39;49m]\u001b[0m\u001b[39;49m A new release of pip is available: \u001b[0m\u001b[31;49m23.0.1\u001b[0m\u001b[39;49m -> \u001b[0m\u001b[32;49m23.1.2\u001b[0m\n",
      "\u001b[1m[\u001b[0m\u001b[34;49mnotice\u001b[0m\u001b[1;39;49m]\u001b[0m\u001b[39;49m To update, run: \u001b[0m\u001b[32;49mpip install --upgrade pip\u001b[0m\n"
     ]
    }
   ],
   "source": []
  },
  {
   "cell_type": "code",
   "execution_count": 46,
   "id": "e8a10e90-effc-4d77-9a93-3416aca8cb3a",
   "metadata": {},
   "outputs": [
    {
     "name": "stdout",
     "output_type": "stream",
     "text": [
      "\u001b[34m\u001b[1mtrain: \u001b[0mweights=yolov5s.pt, cfg=, data=/opt/app-root/src/redhat-edge-ai-industrial-demo/dataset/images_annotated/YOLODataset/dataset.yaml, hyp=data/hyps/hyp.scratch-low.yaml, epochs=10, batch_size=10, imgsz=1280, rect=False, resume=False, nosave=False, noval=False, noautoanchor=False, noplots=False, evolve=None, bucket=, cache=None, image_weights=False, device=, multi_scale=False, single_cls=False, optimizer=SGD, sync_bn=False, workers=8, project=runs/train, name=exp, exist_ok=False, quad=False, cos_lr=False, label_smoothing=0.0, patience=100, freeze=[0], save_period=-1, seed=0, local_rank=-1, entity=None, upload_dataset=False, bbox_interval=-1, artifact_alias=latest\n",
      "\u001b[34m\u001b[1mgithub: \u001b[0mup to date with https://github.com/ultralytics/yolov5 ✅\n",
      "YOLOv5 🚀 v7.0-172-gc3c1304 Python-3.9.14 torch-2.0.1+cu117 CUDA:0 (NVIDIA RTX A2000 12GB, 12036MiB)\n",
      "\n",
      "\u001b[34m\u001b[1mhyperparameters: \u001b[0mlr0=0.01, lrf=0.01, momentum=0.937, weight_decay=0.0005, warmup_epochs=3.0, warmup_momentum=0.8, warmup_bias_lr=0.1, box=0.05, cls=0.5, cls_pw=1.0, obj=1.0, obj_pw=1.0, iou_t=0.2, anchor_t=4.0, fl_gamma=0.0, hsv_h=0.015, hsv_s=0.7, hsv_v=0.4, degrees=0.0, translate=0.1, scale=0.5, shear=0.0, perspective=0.0, flipud=0.0, fliplr=0.5, mosaic=1.0, mixup=0.0, copy_paste=0.0\n",
      "\u001b[34m\u001b[1mClearML: \u001b[0mrun 'pip install clearml' to automatically track, visualize and remotely train YOLOv5 🚀 in ClearML\n",
      "\u001b[34m\u001b[1mComet: \u001b[0mrun 'pip install comet_ml' to automatically track and visualize YOLOv5 🚀 runs in Comet\n",
      "\u001b[34m\u001b[1mTensorBoard: \u001b[0mStart with 'tensorboard --logdir runs/train', view at http://localhost:6006/\n",
      "Overriding model.yaml nc=80 with nc=2\n",
      "\n",
      "                 from  n    params  module                                  arguments                     \n",
      "  0                -1  1      3520  models.common.Conv                      [3, 32, 6, 2, 2]              \n",
      "  1                -1  1     18560  models.common.Conv                      [32, 64, 3, 2]                \n",
      "  2                -1  1     18816  models.common.C3                        [64, 64, 1]                   \n",
      "  3                -1  1     73984  models.common.Conv                      [64, 128, 3, 2]               \n",
      "  4                -1  2    115712  models.common.C3                        [128, 128, 2]                 \n",
      "  5                -1  1    295424  models.common.Conv                      [128, 256, 3, 2]              \n",
      "  6                -1  3    625152  models.common.C3                        [256, 256, 3]                 \n",
      "  7                -1  1   1180672  models.common.Conv                      [256, 512, 3, 2]              \n",
      "  8                -1  1   1182720  models.common.C3                        [512, 512, 1]                 \n",
      "  9                -1  1    656896  models.common.SPPF                      [512, 512, 5]                 \n",
      " 10                -1  1    131584  models.common.Conv                      [512, 256, 1, 1]              \n",
      " 11                -1  1         0  torch.nn.modules.upsampling.Upsample    [None, 2, 'nearest']          \n",
      " 12           [-1, 6]  1         0  models.common.Concat                    [1]                           \n",
      " 13                -1  1    361984  models.common.C3                        [512, 256, 1, False]          \n",
      " 14                -1  1     33024  models.common.Conv                      [256, 128, 1, 1]              \n",
      " 15                -1  1         0  torch.nn.modules.upsampling.Upsample    [None, 2, 'nearest']          \n",
      " 16           [-1, 4]  1         0  models.common.Concat                    [1]                           \n",
      " 17                -1  1     90880  models.common.C3                        [256, 128, 1, False]          \n",
      " 18                -1  1    147712  models.common.Conv                      [128, 128, 3, 2]              \n",
      " 19          [-1, 14]  1         0  models.common.Concat                    [1]                           \n",
      " 20                -1  1    296448  models.common.C3                        [256, 256, 1, False]          \n",
      " 21                -1  1    590336  models.common.Conv                      [256, 256, 3, 2]              \n",
      " 22          [-1, 10]  1         0  models.common.Concat                    [1]                           \n",
      " 23                -1  1   1182720  models.common.C3                        [512, 512, 1, False]          \n",
      " 24      [17, 20, 23]  1     18879  models.yolo.Detect                      [2, [[10, 13, 16, 30, 33, 23], [30, 61, 62, 45, 59, 119], [116, 90, 156, 198, 373, 326]], [128, 256, 512]]\n",
      "Model summary: 214 layers, 7025023 parameters, 7025023 gradients, 16.0 GFLOPs\n",
      "\n",
      "Transferred 343/349 items from yolov5s.pt\n",
      "\u001b[34m\u001b[1mAMP: \u001b[0mchecks passed ✅\n",
      "\u001b[34m\u001b[1moptimizer:\u001b[0m SGD(lr=0.01) with parameter groups 57 weight(decay=0.0), 60 weight(decay=0.00046875), 60 bias\n",
      "\u001b[34m\u001b[1mtrain: \u001b[0mScanning /opt/app-root/src/redhat-edge-ai-industrial-demo/dataset/images_\u001b[0m\n",
      "\u001b[34m\u001b[1mval: \u001b[0mScanning /opt/app-root/src/redhat-edge-ai-industrial-demo/dataset/images_an\u001b[0m\n",
      "\n",
      "\u001b[34m\u001b[1mAutoAnchor: \u001b[0m4.86 anchors/target, 1.000 Best Possible Recall (BPR). Current anchors are a good fit to dataset ✅\n",
      "Plotting labels to runs/train/exp2/labels.jpg... \n",
      "Image sizes 1280 train, 1280 val\n",
      "Using 8 dataloader workers\n",
      "Logging results to \u001b[1mruns/train/exp2\u001b[0m\n",
      "Starting training for 10 epochs...\n",
      "\n",
      "      Epoch    GPU_mem   box_loss   obj_loss   cls_loss  Instances       Size\n",
      "        0/9      7.86G     0.1177     0.1318     0.0291         42       1280: 1\n",
      "                 Class     Images  Instances          P          R      mAP50   WARNING ⚠️ NMS time limit 1.500s exceeded\n",
      "                 Class     Images  Instances          P          R      mAP50   \n",
      "                   all         37        286     0.0207      0.808     0.0481      0.012\n",
      "\n",
      "      Epoch    GPU_mem   box_loss   obj_loss   cls_loss  Instances       Size\n",
      "        1/9      8.33G    0.08091     0.1113    0.02772         46       1280: 1\n",
      "                 Class     Images  Instances          P          R      mAP50   WARNING ⚠️ NMS time limit 1.500s exceeded\n",
      "                 Class     Images  Instances          P          R      mAP50   WARNING ⚠️ NMS time limit 1.350s exceeded\n",
      "                 Class     Images  Instances          P          R      mAP50   \n",
      "                   all         37        286      0.101      0.248     0.0824     0.0219\n",
      "\n",
      "      Epoch    GPU_mem   box_loss   obj_loss   cls_loss  Instances       Size\n",
      "        2/9      8.33G    0.07589    0.09474    0.02629         47       1280: 1\n",
      "                 Class     Images  Instances          P          R      mAP50   \n",
      "                   all         37        286      0.147      0.711      0.169     0.0587\n",
      "\n",
      "      Epoch    GPU_mem   box_loss   obj_loss   cls_loss  Instances       Size\n",
      "        3/9      8.33G    0.06887    0.08365    0.02473         31       1280: 1\n",
      "                 Class     Images  Instances          P          R      mAP50   \n",
      "                   all         37        286      0.411      0.568      0.472      0.184\n",
      "\n",
      "      Epoch    GPU_mem   box_loss   obj_loss   cls_loss  Instances       Size\n",
      "        4/9      8.33G    0.06167    0.07431    0.02459         46       1280: 1\n",
      "                 Class     Images  Instances          P          R      mAP50   \n",
      "                   all         37        286      0.179      0.418       0.27      0.126\n",
      "\n",
      "      Epoch    GPU_mem   box_loss   obj_loss   cls_loss  Instances       Size\n",
      "        5/9      8.33G     0.0593    0.07156    0.02403         35       1280: 1\n",
      "                 Class     Images  Instances          P          R      mAP50   \n",
      "                   all         37        286      0.363      0.805      0.477      0.202\n",
      "\n",
      "      Epoch    GPU_mem   box_loss   obj_loss   cls_loss  Instances       Size\n",
      "        6/9      8.33G    0.05858    0.07214    0.02418         87       1280: 1\n",
      "                 Class     Images  Instances          P          R      mAP50   \n",
      "                   all         37        286      0.287      0.796      0.474      0.257\n",
      "\n",
      "      Epoch    GPU_mem   box_loss   obj_loss   cls_loss  Instances       Size\n",
      "        7/9      8.33G    0.05639    0.06911    0.02482         47       1280: 1\n",
      "                 Class     Images  Instances          P          R      mAP50   \n",
      "                   all         37        286      0.355      0.856      0.475      0.199\n",
      "\n",
      "      Epoch    GPU_mem   box_loss   obj_loss   cls_loss  Instances       Size\n",
      "        8/9      8.33G    0.04885    0.06774    0.02442         41       1280: 1\n",
      "                 Class     Images  Instances          P          R      mAP50   \n",
      "                   all         37        286      0.396      0.849      0.522      0.297\n",
      "\n",
      "      Epoch    GPU_mem   box_loss   obj_loss   cls_loss  Instances       Size\n",
      "        9/9      8.33G    0.04268    0.07083    0.02393         80       1280: 1\n",
      "                 Class     Images  Instances          P          R      mAP50   \n",
      "                   all         37        286      0.432      0.934      0.551      0.329\n",
      "\n",
      "10 epochs completed in 0.034 hours.\n",
      "Optimizer stripped from runs/train/exp2/weights/last.pt, 14.7MB\n",
      "Optimizer stripped from runs/train/exp2/weights/best.pt, 14.7MB\n",
      "\n",
      "Validating runs/train/exp2/weights/best.pt...\n",
      "Fusing layers... \n",
      "Model summary: 157 layers, 7015519 parameters, 0 gradients, 15.8 GFLOPs\n",
      "                 Class     Images  Instances          P          R      mAP50   \n",
      "                   all         37        286      0.432      0.934      0.551      0.329\n",
      "                   Nut         37        173      0.418      0.965      0.624      0.353\n",
      "            Broken_Nut         37        113      0.445      0.902      0.478      0.306\n",
      "Results saved to \u001b[1mruns/train/exp2\u001b[0m\n"
     ]
    }
   ],
   "source": [
    "!cd /opt/app-root/src/yolov5 && python train.py --img 1280 --epochs 10 --batch-size 10 --data /opt/app-root/src/redhat-edge-ai-industrial-demo/dataset/images_annotated/YOLODataset/dataset.yaml --weights yolov5s.pt\n",
    "!find . -iname best.pt -exec mv {} /opt/app-root/src/redhat-edge-ai-industrial-demo/model/nut.pt \\;\n"
   ]
  },
  {
   "cell_type": "code",
   "execution_count": 61,
   "id": "03d27e29-d82f-4bb5-80b0-edca8f9cca37",
   "metadata": {},
   "outputs": [
    {
     "name": "stdout",
     "output_type": "stream",
     "text": [
      "Requirement already satisfied: gh-scoped-creds in /opt/app-root/lib/python3.9/site-packages (4.1)\n",
      "Requirement already satisfied: requests in /opt/app-root/lib/python3.9/site-packages (from gh-scoped-creds) (2.28.2)\n",
      "Requirement already satisfied: certifi>=2017.4.17 in /opt/app-root/lib/python3.9/site-packages (from requests->gh-scoped-creds) (2022.12.7)\n",
      "Requirement already satisfied: urllib3<1.27,>=1.21.1 in /opt/app-root/lib/python3.9/site-packages (from requests->gh-scoped-creds) (1.26.15)\n",
      "Requirement already satisfied: idna<4,>=2.5 in /opt/app-root/lib/python3.9/site-packages (from requests->gh-scoped-creds) (3.4)\n",
      "Requirement already satisfied: charset-normalizer<4,>=2 in /opt/app-root/lib/python3.9/site-packages (from requests->gh-scoped-creds) (3.1.0)\n",
      "\n",
      "\u001b[1m[\u001b[0m\u001b[34;49mnotice\u001b[0m\u001b[1;39;49m]\u001b[0m\u001b[39;49m A new release of pip is available: \u001b[0m\u001b[31;49m23.0.1\u001b[0m\u001b[39;49m -> \u001b[0m\u001b[32;49m23.1.2\u001b[0m\n",
      "\u001b[1m[\u001b[0m\u001b[34;49mnotice\u001b[0m\u001b[1;39;49m]\u001b[0m\u001b[39;49m To update, run: \u001b[0m\u001b[32;49mpip install --upgrade pip\u001b[0m\n",
      "/usr/bin/sh: line 1: export: `Iv1.7c508352fffac332': not a valid identifier\n"
     ]
    },
    {
     "data": {
      "application/javascript": [
       "navigator.clipboard.writeText(\"F1C0-F029\");"
      ],
      "text/plain": [
       "<IPython.core.display.Javascript object>"
      ]
     },
     "metadata": {},
     "output_type": "display_data"
    },
    {
     "name": "stdout",
     "output_type": "stream",
     "text": [
      "The code F1C0-F029 has been copied to your clipboard.\n",
      "You have 15 minutes to go to https://github.com/login/device and paste it there.\n",
      "\n",
      "Waiting......\n"
     ]
    },
    {
     "data": {
      "text/html": [
       "<p style=\"background-color:lightgreen;\">Success! Authentication will expire in 8.0 hours.<br /></p>"
      ],
      "text/plain": [
       "<IPython.core.display.HTML object>"
      ]
     },
     "metadata": {},
     "output_type": "display_data"
    },
    {
     "name": "stdout",
     "output_type": "stream",
     "text": [
      "Tip: Use https:// URLs to clone and push to repos, not ssh URLs!\n",
      "On branch main\n",
      "Your branch is ahead of 'origin/main' by 1 commit.\n",
      "  (use \"git push\" to publish your local commits)\n",
      "\n",
      "Changes not staged for commit:\n",
      "  (use \"git add <file>...\" to update what will be committed)\n",
      "  (use \"git restore <file>...\" to discard changes in working directory)\n",
      "\t\u001b[31mmodified:   dataset/images_annotated/YOLODataset/dataset.yaml\u001b[m\n",
      "\n",
      "Untracked files:\n",
      "  (use \"git add <file>...\" to include in what will be committed)\n",
      "\t\u001b[31mdataset/images_annotated/YOLODataset/.ipynb_checkpoints/\u001b[m\n",
      "\t\u001b[31mdataset/images_annotated/YOLODataset/labels/train.cache\u001b[m\n",
      "\t\u001b[31mdataset/images_annotated/YOLODataset/labels/val.cache\u001b[m\n",
      "\n",
      "no changes added to commit (use \"git add\" and/or \"git commit -a\")\n"
     ]
    }
   ],
   "source": []
  },
  {
   "cell_type": "code",
   "execution_count": 60,
   "id": "4e4e7025-5fda-4aa2-b48d-b0cc321d5990",
   "metadata": {},
   "outputs": [
    {
     "name": "stdout",
     "output_type": "stream",
     "text": [
      "remote: Permission to bdherouville/redhat-edge-ai-industrial-demo.git denied to bdherouville.\n",
      "fatal: unable to access 'https://github.com/bdherouville/redhat-edge-ai-industrial-demo.git/': The requested URL returned error: 403\n"
     ]
    }
   ],
   "source": []
  },
  {
   "cell_type": "code",
   "execution_count": null,
   "id": "b9bcb63d-08b5-4de5-846f-77403c65489c",
   "metadata": {},
   "outputs": [],
   "source": []
  }
 ],
 "metadata": {
  "kernelspec": {
   "display_name": "Python 3.9.14",
   "language": "python",
   "name": "python3"
  },
  "language_info": {
   "codemirror_mode": {
    "name": "ipython",
    "version": 3
   },
   "file_extension": ".py",
   "mimetype": "text/x-python",
   "name": "python",
   "nbconvert_exporter": "python",
   "pygments_lexer": "ipython3",
   "version": "3.9.14"
  }
 },
 "nbformat": 4,
 "nbformat_minor": 5
}
